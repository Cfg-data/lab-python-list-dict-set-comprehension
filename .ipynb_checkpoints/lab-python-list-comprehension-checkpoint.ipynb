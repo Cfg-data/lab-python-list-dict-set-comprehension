{
 "cells": [
  {
   "cell_type": "markdown",
   "id": "25d7736c-ba17-4aff-b6bb-66eba20fbf4e",
   "metadata": {},
   "source": [
    "# Lab | List, Dict and Set Comprehension"
   ]
  },
  {
   "cell_type": "markdown",
   "id": "7dd3cbde-675a-4b81-92c3-f728846dbe06",
   "metadata": {},
   "source": [
    "## Exercise: Managing Customer Orders Optimized with Comprehension"
   ]
  },
  {
   "cell_type": "markdown",
   "id": "5d500160-2fb7-4777-b5e4-09d45ebaf328",
   "metadata": {},
   "source": [
    "In the previous exercise, you developed a program to manage customer orders and inventory. Now, let's take it a step further and incorporate comprehension into your code.\n",
    "\n",
    "Follow the steps below to complete the exercise:\n",
    "\n",
    "1. Review your code from the previous exercise and identify areas where you can apply comprehension to simplify and streamline your code. \n",
    "\n",
    "    - *Hint: Apply it to initialize inventory, updating the inventory and printing the updated inventory.*\n",
    "    \n",
    "    - For example, in initializing the inventory, we could have:\n",
    "    \n",
    "        ```python\n",
    "        def initialize_inventory(products):\n",
    "            inventory = {product: int(input(f\"Enter the quantity of {product}s available: \")) for product in products}\n",
    "            return inventory\n",
    "\n",
    "        ```\n",
    "<br>\n",
    "    \n",
    "    \n",
    "2. Modify the function get_customer_orders so it prompts the user to enter the number of customer orders and gathers the product names using a loop and user input. Use comprehension.\n",
    "\n",
    "3. Add a new function to calculate the total price of the customer order. For each product in customer_orders, prompt the user to enter the price of that product. Use comprehension to calculate the total price. Note: assume that the user can only have 1 unit of each product.\n",
    "\n",
    "4. Modify the update_inventory function to remove the product from the inventory if its quantity becomes zero after fulfilling the customer orders. Use comprehension to filter out the products with a quantity of zero from the inventory.\n",
    "\n",
    "5. Print the total price of the customer order.\n",
    "\n",
    "Your code should produce output similar to the following:\n",
    "\n",
    "```python\n",
    "Enter the quantity of t-shirts available:  5\n",
    "Enter the quantity of mugs available:  4\n",
    "Enter the quantity of hats available:  3\n",
    "Enter the quantity of books available:  2\n",
    "Enter the quantity of keychains available:  1\n",
    "Enter the number of customer orders:  2\n",
    "Enter the name of a product that a customer wants to order:  hat\n",
    "Enter the name of a product that a customer wants to order:  keychain\n",
    "\n",
    "Order Statistics:\n",
    "Total Products Ordered: 2\n",
    "Percentage of Unique Products Ordered: 40.0\n",
    "\n",
    "Updated Inventory:\n",
    "t-shirt: 5\n",
    "mug: 4\n",
    "hat: 2\n",
    "book: 2\n",
    "Enter the price of keychain:  5\n",
    "Enter the price of hat:  10\n",
    "Total Price: 15.0\n",
    "\n",
    "```\n"
   ]
  },
  {
   "cell_type": "code",
   "execution_count": 14,
   "id": "d5beaf9e-2666-477d-8758-e2723c6dff21",
   "metadata": {},
   "outputs": [
    {
     "name": "stdin",
     "output_type": "stream",
     "text": [
      "Enter the quantity of t-shirts available:   3\n",
      "Enter the quantity of mugs available:   5\n",
      "Enter the quantity of hats available:   6\n",
      "Enter the quantity of books available:   1\n",
      "Enter the quantity of keychains available:   2\n",
      "Enter the price of t-shirt:   5\n",
      "Enter the price of mug:   6\n",
      "Enter the price of hat:   8\n",
      "Enter the price of book:   9\n",
      "Enter the price of keychain:   4\n"
     ]
    },
    {
     "name": "stdout",
     "output_type": "stream",
     "text": [
      "Inventory: {'t-shirt': 3, 'mug': 5, 'hat': 6, 'book': 1, 'keychain': 2}\n"
     ]
    },
    {
     "name": "stdin",
     "output_type": "stream",
     "text": [
      "Enter the number of  total products customer wants to order:   2\n",
      "Enter the name of a product that a customer wants to order:   hat\n",
      "Enter the quantity for hat:   2\n"
     ]
    },
    {
     "name": "stdout",
     "output_type": "stream",
     "text": [
      "2 of hat has been added to your orders.\n"
     ]
    },
    {
     "name": "stdin",
     "output_type": "stream",
     "text": [
      "Enter the name of a product that a customer wants to order:   book\n",
      "Enter the quantity for book:   1\n"
     ]
    },
    {
     "name": "stdout",
     "output_type": "stream",
     "text": [
      "1 of book has been added to your orders.\n",
      "Order Statistics:\n",
      "Total Products Ordered: 3\n",
      "Percentage of Unique Products Ordered: 40.0\n",
      "Updated Inventory:\n",
      "t-shirt: 3\n",
      "mug: 5\n",
      "hat: 2\n",
      "keychain: 2\n",
      "Total Price: 25.0\n"
     ]
    }
   ],
   "source": [
    "# Initialize the dictionary for customer orders\n",
    "customer_orders = {}\n",
    "\n",
    "# List of available products\n",
    "products = [\"t-shirt\", \"mug\", \"hat\", \"book\", \"keychain\"]\n",
    "\n",
    "def initialize_inventory(products):\n",
    "    # Initialize inventory using a dictionary comprehension\n",
    "    inventory = {product: int(input(f\"Enter the quantity of {product}s available:  \")) for product in products}\n",
    "    return inventory\n",
    "\n",
    "def product_price(products):\n",
    "    # Initialize a dictionary to hold product prices\n",
    "    prices = {}\n",
    "    # Input prices for each product\n",
    "    for product in products:\n",
    "        price = float(input(f\"Enter the price of {product}:  \"))\n",
    "        prices[product] = price  # Set the price for each product\n",
    "    return prices\n",
    "\n",
    "def get_customer_orders():\n",
    "    # Return the customer orders\n",
    "    return customer_orders\n",
    "\n",
    "def update_inventory(customer_orders, inventory):\n",
    "    # Update the inventory based on customer orders\n",
    "    for product, quantity in customer_orders.items():\n",
    "        if product in inventory:\n",
    "            inventory[product] -= quantity  # Subtract the ordered quantity from inventory\n",
    "            \n",
    "            # Remove the product from inventory if the quantity is zero or less\n",
    "            if inventory[product] <= 0:\n",
    "                del inventory[product]\n",
    "\n",
    "def calculate_order_statistics(customer_orders, products):\n",
    "    # Calculate total products ordered\n",
    "    total_ordered = sum(customer_orders.values())\n",
    "    \n",
    "    # Calculate the number of unique products ordered\n",
    "    unique_products_ordered = len(customer_orders)\n",
    "    \n",
    "    # Calculate the percentage of unique products ordered\n",
    "    percentage_unique = (unique_products_ordered / len(products)) * 100 if products else 0\n",
    "    \n",
    "    return total_ordered, percentage_unique\n",
    "\n",
    "def print_updated_inventory(inventory):\n",
    "    # Print the updated inventory\n",
    "    print(\"Updated Inventory:\")\n",
    "    for product, quantity in inventory.items():\n",
    "        print(f\"{product}: {quantity}\")\n",
    "\n",
    "def total_order_price(customer_orders, prices):\n",
    "    # Calculate the total price for the order\n",
    "    total_price = 0.0\n",
    "    for product, quantity in customer_orders.items():\n",
    "        if product in prices:\n",
    "            total_price += prices[product] * quantity  # Calculate total price for each product\n",
    "    return total_price\n",
    "\n",
    "# Call the function to initialize inventory\n",
    "inventory = initialize_inventory(products)\n",
    "\n",
    "# Get product prices\n",
    "prices = product_price(products)\n",
    "\n",
    "print(\"Inventory:\", inventory)\n",
    "\n",
    "# Number of customer orders\n",
    "num_orders = int(input(\"Enter the number of  total products customer wants to order:  \"))\n",
    "for _ in range(num_orders):\n",
    "    product = input(\"Enter the name of a product that a customer wants to order:  \").strip().lower()\n",
    "    \n",
    "    # Check if the product is valid\n",
    "    if product in products:\n",
    "        quantity = int(input(f\"Enter the quantity for {product}:  \"))\n",
    "        \n",
    "        # Check if there is enough inventory for the order\n",
    "        if quantity <= inventory.get(product, 0):\n",
    "            if product in customer_orders:\n",
    "                customer_orders[product] += quantity  # Update quantity if product already exists\n",
    "            else:\n",
    "                customer_orders[product] = quantity  # Add new product with quantity\n",
    "            \n",
    "            # Update the inventory\n",
    "            inventory[product] -= quantity\n",
    "            print(f\"{quantity} of {product} has been added to your orders.\")\n",
    "        else:\n",
    "            print(f\"Sorry, there is not enough inventory for {product}. Available quantity: {inventory.get(product, 0)}\")\n",
    "    else:\n",
    "        print(\"Invalid product. Please choose from the available products.\")\n",
    "\n",
    "# Update the inventory based on customer orders\n",
    "update_inventory(customer_orders, inventory)\n",
    "\n",
    "# Calculate and display order statistics\n",
    "total_ordered, percentage_unique = calculate_order_statistics(customer_orders, products)\n",
    "print(\"Order Statistics:\")\n",
    "print(f\"Total Products Ordered: {total_ordered}\")\n",
    "print(f\"Percentage of Unique Products Ordered: {percentage_unique:.1f}\")\n",
    "\n",
    "# Print the updated inventory\n",
    "print_updated_inventory(inventory)\n",
    "\n",
    "# Calculate total price\n",
    "total_price = total_order_price(customer_orders, prices)\n",
    "print(f\"Total Price: {total_price:.1f}\")"
   ]
  },
  {
   "cell_type": "code",
   "execution_count": null,
   "id": "a2ec9630-4eea-450d-a5cb-6fc64e93337d",
   "metadata": {},
   "outputs": [],
   "source": []
  }
 ],
 "metadata": {
  "kernelspec": {
   "display_name": "Python 3 (ipykernel)",
   "language": "python",
   "name": "python3"
  },
  "language_info": {
   "codemirror_mode": {
    "name": "ipython",
    "version": 3
   },
   "file_extension": ".py",
   "mimetype": "text/x-python",
   "name": "python",
   "nbconvert_exporter": "python",
   "pygments_lexer": "ipython3",
   "version": "3.12.4"
  }
 },
 "nbformat": 4,
 "nbformat_minor": 5
}
